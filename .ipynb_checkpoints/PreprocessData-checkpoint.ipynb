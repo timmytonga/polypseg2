{
 "cells": [
  {
   "cell_type": "markdown",
   "metadata": {},
   "source": []
  },
  {
   "cell_type": "code",
   "execution_count": 2,
   "metadata": {
    "scrolled": true
   },
   "outputs": [
    {
     "name": "stdout",
     "output_type": "stream",
     "text": [
      "100.tif  162.tif  223.tif  285.tif  346.tif  407.tif  469.tif  52.tif\t591.tif\r\n",
      "101.tif  163.tif  224.tif  286.tif  347.tif  408.tif  46.tif   530.tif\t592.tif\r\n",
      "102.tif  164.tif  225.tif  287.tif  348.tif  409.tif  470.tif  531.tif\t593.tif\r\n",
      "103.tif  165.tif  226.tif  288.tif  349.tif  40.tif   471.tif  532.tif\t594.tif\r\n",
      "104.tif  166.tif  227.tif  289.tif  34.tif   410.tif  472.tif  533.tif\t595.tif\r\n",
      "105.tif  167.tif  228.tif  28.tif   350.tif  411.tif  473.tif  534.tif\t596.tif\r\n",
      "106.tif  168.tif  229.tif  290.tif  351.tif  412.tif  474.tif  535.tif\t597.tif\r\n",
      "107.tif  169.tif  22.tif   291.tif  352.tif  413.tif  475.tif  536.tif\t598.tif\r\n",
      "108.tif  16.tif   230.tif  292.tif  353.tif  414.tif  476.tif  537.tif\t599.tif\r\n",
      "109.tif  170.tif  231.tif  293.tif  354.tif  415.tif  477.tif  538.tif\t59.tif\r\n",
      "10.tif\t 171.tif  232.tif  294.tif  355.tif  416.tif  478.tif  539.tif\t5.tif\r\n",
      "110.tif  172.tif  233.tif  295.tif  356.tif  417.tif  479.tif  53.tif\t600.tif\r\n",
      "111.tif  173.tif  234.tif  296.tif  357.tif  418.tif  47.tif   540.tif\t601.tif\r\n",
      "112.tif  174.tif  235.tif  297.tif  358.tif  419.tif  480.tif  541.tif\t602.tif\r\n",
      "113.tif  175.tif  236.tif  298.tif  359.tif  41.tif   481.tif  542.tif\t603.tif\r\n",
      "114.tif  176.tif  237.tif  299.tif  35.tif   420.tif  482.tif  543.tif\t604.tif\r\n",
      "115.tif  177.tif  238.tif  29.tif   360.tif  421.tif  483.tif  544.tif\t605.tif\r\n",
      "116.tif  178.tif  239.tif  2.tif    361.tif  422.tif  484.tif  545.tif\t606.tif\r\n",
      "117.tif  179.tif  23.tif   300.tif  362.tif  423.tif  485.tif  546.tif\t607.tif\r\n",
      "118.tif  17.tif   240.tif  301.tif  363.tif  424.tif  486.tif  547.tif\t608.tif\r\n",
      "119.tif  180.tif  241.tif  302.tif  364.tif  425.tif  487.tif  548.tif\t609.tif\r\n",
      "11.tif\t 181.tif  242.tif  303.tif  365.tif  426.tif  488.tif  549.tif\t60.tif\r\n",
      "120.tif  182.tif  243.tif  304.tif  366.tif  427.tif  489.tif  54.tif\t610.tif\r\n",
      "121.tif  183.tif  244.tif  305.tif  367.tif  428.tif  48.tif   550.tif\t611.tif\r\n",
      "122.tif  184.tif  245.tif  306.tif  368.tif  429.tif  490.tif  551.tif\t612.tif\r\n",
      "123.tif  185.tif  246.tif  307.tif  369.tif  42.tif   491.tif  552.tif\t61.tif\r\n",
      "124.tif  186.tif  247.tif  308.tif  36.tif   430.tif  492.tif  553.tif\t62.tif\r\n",
      "125.tif  187.tif  248.tif  309.tif  370.tif  431.tif  493.tif  554.tif\t63.tif\r\n",
      "126.tif  188.tif  249.tif  30.tif   371.tif  432.tif  494.tif  555.tif\t64.tif\r\n",
      "127.tif  189.tif  24.tif   310.tif  372.tif  433.tif  495.tif  556.tif\t65.tif\r\n",
      "128.tif  18.tif   250.tif  311.tif  373.tif  434.tif  496.tif  557.tif\t66.tif\r\n",
      "129.tif  190.tif  251.tif  312.tif  374.tif  435.tif  497.tif  558.tif\t67.tif\r\n",
      "12.tif\t 191.tif  252.tif  313.tif  375.tif  436.tif  498.tif  559.tif\t68.tif\r\n",
      "130.tif  192.tif  253.tif  314.tif  376.tif  437.tif  499.tif  55.tif\t69.tif\r\n",
      "131.tif  193.tif  254.tif  315.tif  377.tif  438.tif  49.tif   560.tif\t6.tif\r\n",
      "132.tif  194.tif  255.tif  316.tif  378.tif  439.tif  4.tif    561.tif\t70.tif\r\n",
      "133.tif  195.tif  256.tif  317.tif  379.tif  43.tif   500.tif  562.tif\t71.tif\r\n",
      "134.tif  196.tif  257.tif  318.tif  37.tif   440.tif  501.tif  563.tif\t72.tif\r\n",
      "135.tif  197.tif  258.tif  319.tif  380.tif  441.tif  502.tif  564.tif\t73.tif\r\n",
      "136.tif  198.tif  259.tif  31.tif   381.tif  442.tif  503.tif  565.tif\t74.tif\r\n",
      "137.tif  199.tif  25.tif   320.tif  382.tif  443.tif  504.tif  566.tif\t75.tif\r\n",
      "138.tif  19.tif   260.tif  321.tif  383.tif  444.tif  505.tif  567.tif\t76.tif\r\n",
      "139.tif  1.tif\t  261.tif  322.tif  384.tif  445.tif  506.tif  568.tif\t77.tif\r\n",
      "13.tif\t 200.tif  262.tif  323.tif  385.tif  446.tif  507.tif  569.tif\t78.tif\r\n",
      "140.tif  201.tif  263.tif  324.tif  386.tif  447.tif  508.tif  56.tif\t79.tif\r\n",
      "141.tif  202.tif  264.tif  325.tif  387.tif  448.tif  509.tif  570.tif\t7.tif\r\n",
      "142.tif  203.tif  265.tif  326.tif  388.tif  449.tif  50.tif   571.tif\t80.tif\r\n",
      "143.tif  204.tif  266.tif  327.tif  389.tif  44.tif   510.tif  572.tif\t81.tif\r\n",
      "144.tif  205.tif  267.tif  328.tif  38.tif   450.tif  511.tif  573.tif\t82.tif\r\n",
      "145.tif  206.tif  268.tif  329.tif  390.tif  451.tif  512.tif  574.tif\t83.tif\r\n",
      "146.tif  207.tif  269.tif  32.tif   391.tif  452.tif  513.tif  575.tif\t84.tif\r\n",
      "147.tif  208.tif  26.tif   330.tif  392.tif  453.tif  514.tif  576.tif\t85.tif\r\n",
      "148.tif  209.tif  270.tif  331.tif  393.tif  454.tif  515.tif  577.tif\t86.tif\r\n",
      "149.tif  20.tif   271.tif  332.tif  394.tif  455.tif  516.tif  578.tif\t87.tif\r\n",
      "14.tif\t 210.tif  272.tif  333.tif  395.tif  456.tif  517.tif  579.tif\t88.tif\r\n",
      "150.tif  211.tif  273.tif  334.tif  396.tif  457.tif  518.tif  57.tif\t89.tif\r\n",
      "151.tif  212.tif  274.tif  335.tif  397.tif  458.tif  519.tif  580.tif\t8.tif\r\n",
      "152.tif  213.tif  275.tif  336.tif  398.tif  459.tif  51.tif   581.tif\t90.tif\r\n",
      "153.tif  214.tif  276.tif  337.tif  399.tif  45.tif   520.tif  582.tif\t91.tif\r\n",
      "154.tif  215.tif  277.tif  338.tif  39.tif   460.tif  521.tif  583.tif\t92.tif\r\n",
      "155.tif  216.tif  278.tif  339.tif  3.tif    461.tif  522.tif  584.tif\t93.tif\r\n",
      "156.tif  217.tif  279.tif  33.tif   400.tif  462.tif  523.tif  585.tif\t94.tif\r\n",
      "157.tif  218.tif  27.tif   340.tif  401.tif  463.tif  524.tif  586.tif\t95.tif\r\n",
      "158.tif  219.tif  280.tif  341.tif  402.tif  464.tif  525.tif  587.tif\t96.tif\r\n",
      "159.tif  21.tif   281.tif  342.tif  403.tif  465.tif  526.tif  588.tif\t97.tif\r\n",
      "15.tif\t 220.tif  282.tif  343.tif  404.tif  466.tif  527.tif  589.tif\t98.tif\r\n",
      "160.tif  221.tif  283.tif  344.tif  405.tif  467.tif  528.tif  58.tif\t99.tif\r\n",
      "161.tif  222.tif  284.tif  345.tif  406.tif  468.tif  529.tif  590.tif\t9.tif\r\n"
     ]
    }
   ],
   "source": [
    "!ls data/train/"
   ]
  },
  {
   "cell_type": "code",
   "execution_count": 12,
   "metadata": {},
   "outputs": [],
   "source": [
    "from PIL import Image\n",
    "\n",
    "im = Image.open('./data/car.jpg')"
   ]
  },
  {
   "cell_type": "code",
   "execution_count": 13,
   "metadata": {},
   "outputs": [
    {
     "ename": "FileNotFoundError",
     "evalue": "[Errno 2] No such file or directory: 'preview/aug_0_2681.jpeg'",
     "output_type": "error",
     "traceback": [
      "\u001b[0;31m---------------------------------------------------------------------------\u001b[0m",
      "\u001b[0;31mFileNotFoundError\u001b[0m                         Traceback (most recent call last)",
      "\u001b[0;32m<ipython-input-13-0669232fd43a>\u001b[0m in \u001b[0;36m<module>\u001b[0;34m\u001b[0m\n\u001b[1;32m     19\u001b[0m \u001b[0mi\u001b[0m \u001b[0;34m=\u001b[0m \u001b[0;36m0\u001b[0m\u001b[0;34m\u001b[0m\u001b[0;34m\u001b[0m\u001b[0m\n\u001b[1;32m     20\u001b[0m for batch in datagen.flow(x, batch_size=1,\n\u001b[0;32m---> 21\u001b[0;31m                           save_to_dir='preview', save_prefix='aug', save_format='jpeg'):\n\u001b[0m\u001b[1;32m     22\u001b[0m     \u001b[0mi\u001b[0m \u001b[0;34m+=\u001b[0m \u001b[0;36m1\u001b[0m\u001b[0;34m\u001b[0m\u001b[0;34m\u001b[0m\u001b[0m\n\u001b[1;32m     23\u001b[0m     \u001b[0;32mif\u001b[0m \u001b[0mi\u001b[0m \u001b[0;34m>\u001b[0m \u001b[0;36m20\u001b[0m\u001b[0;34m:\u001b[0m\u001b[0;34m\u001b[0m\u001b[0;34m\u001b[0m\u001b[0m\n",
      "\u001b[0;32m~/anaconda3/envs/snowflakes/lib/python3.7/site-packages/keras_preprocessing/image/iterator.py\u001b[0m in \u001b[0;36m__next__\u001b[0;34m(self, *args, **kwargs)\u001b[0m\n\u001b[1;32m     98\u001b[0m \u001b[0;34m\u001b[0m\u001b[0m\n\u001b[1;32m     99\u001b[0m     \u001b[0;32mdef\u001b[0m \u001b[0m__next__\u001b[0m\u001b[0;34m(\u001b[0m\u001b[0mself\u001b[0m\u001b[0;34m,\u001b[0m \u001b[0;34m*\u001b[0m\u001b[0margs\u001b[0m\u001b[0;34m,\u001b[0m \u001b[0;34m**\u001b[0m\u001b[0mkwargs\u001b[0m\u001b[0;34m)\u001b[0m\u001b[0;34m:\u001b[0m\u001b[0;34m\u001b[0m\u001b[0;34m\u001b[0m\u001b[0m\n\u001b[0;32m--> 100\u001b[0;31m         \u001b[0;32mreturn\u001b[0m \u001b[0mself\u001b[0m\u001b[0;34m.\u001b[0m\u001b[0mnext\u001b[0m\u001b[0;34m(\u001b[0m\u001b[0;34m*\u001b[0m\u001b[0margs\u001b[0m\u001b[0;34m,\u001b[0m \u001b[0;34m**\u001b[0m\u001b[0mkwargs\u001b[0m\u001b[0;34m)\u001b[0m\u001b[0;34m\u001b[0m\u001b[0;34m\u001b[0m\u001b[0m\n\u001b[0m\u001b[1;32m    101\u001b[0m \u001b[0;34m\u001b[0m\u001b[0m\n\u001b[1;32m    102\u001b[0m     \u001b[0;32mdef\u001b[0m \u001b[0mnext\u001b[0m\u001b[0;34m(\u001b[0m\u001b[0mself\u001b[0m\u001b[0;34m)\u001b[0m\u001b[0;34m:\u001b[0m\u001b[0;34m\u001b[0m\u001b[0;34m\u001b[0m\u001b[0m\n",
      "\u001b[0;32m~/anaconda3/envs/snowflakes/lib/python3.7/site-packages/keras_preprocessing/image/iterator.py\u001b[0m in \u001b[0;36mnext\u001b[0;34m(self)\u001b[0m\n\u001b[1;32m    110\u001b[0m         \u001b[0;31m# The transformation of images is not under thread lock\u001b[0m\u001b[0;34m\u001b[0m\u001b[0;34m\u001b[0m\u001b[0;34m\u001b[0m\u001b[0m\n\u001b[1;32m    111\u001b[0m         \u001b[0;31m# so it can be done in parallel\u001b[0m\u001b[0;34m\u001b[0m\u001b[0;34m\u001b[0m\u001b[0;34m\u001b[0m\u001b[0m\n\u001b[0;32m--> 112\u001b[0;31m         \u001b[0;32mreturn\u001b[0m \u001b[0mself\u001b[0m\u001b[0;34m.\u001b[0m\u001b[0m_get_batches_of_transformed_samples\u001b[0m\u001b[0;34m(\u001b[0m\u001b[0mindex_array\u001b[0m\u001b[0;34m)\u001b[0m\u001b[0;34m\u001b[0m\u001b[0;34m\u001b[0m\u001b[0m\n\u001b[0m\u001b[1;32m    113\u001b[0m \u001b[0;34m\u001b[0m\u001b[0m\n\u001b[1;32m    114\u001b[0m     \u001b[0;32mdef\u001b[0m \u001b[0m_get_batches_of_transformed_samples\u001b[0m\u001b[0;34m(\u001b[0m\u001b[0mself\u001b[0m\u001b[0;34m,\u001b[0m \u001b[0mindex_array\u001b[0m\u001b[0;34m)\u001b[0m\u001b[0;34m:\u001b[0m\u001b[0;34m\u001b[0m\u001b[0;34m\u001b[0m\u001b[0m\n",
      "\u001b[0;32m~/anaconda3/envs/snowflakes/lib/python3.7/site-packages/keras_preprocessing/image/numpy_array_iterator.py\u001b[0m in \u001b[0;36m_get_batches_of_transformed_samples\u001b[0;34m(self, index_array)\u001b[0m\n\u001b[1;32m    163\u001b[0m                     \u001b[0mhash\u001b[0m\u001b[0;34m=\u001b[0m\u001b[0mnp\u001b[0m\u001b[0;34m.\u001b[0m\u001b[0mrandom\u001b[0m\u001b[0;34m.\u001b[0m\u001b[0mrandint\u001b[0m\u001b[0;34m(\u001b[0m\u001b[0;36m1e4\u001b[0m\u001b[0;34m)\u001b[0m\u001b[0;34m,\u001b[0m\u001b[0;34m\u001b[0m\u001b[0;34m\u001b[0m\u001b[0m\n\u001b[1;32m    164\u001b[0m                     format=self.save_format)\n\u001b[0;32m--> 165\u001b[0;31m                 \u001b[0mimg\u001b[0m\u001b[0;34m.\u001b[0m\u001b[0msave\u001b[0m\u001b[0;34m(\u001b[0m\u001b[0mos\u001b[0m\u001b[0;34m.\u001b[0m\u001b[0mpath\u001b[0m\u001b[0;34m.\u001b[0m\u001b[0mjoin\u001b[0m\u001b[0;34m(\u001b[0m\u001b[0mself\u001b[0m\u001b[0;34m.\u001b[0m\u001b[0msave_to_dir\u001b[0m\u001b[0;34m,\u001b[0m \u001b[0mfname\u001b[0m\u001b[0;34m)\u001b[0m\u001b[0;34m)\u001b[0m\u001b[0;34m\u001b[0m\u001b[0;34m\u001b[0m\u001b[0m\n\u001b[0m\u001b[1;32m    166\u001b[0m         \u001b[0mbatch_x_miscs\u001b[0m \u001b[0;34m=\u001b[0m \u001b[0;34m[\u001b[0m\u001b[0mxx\u001b[0m\u001b[0;34m[\u001b[0m\u001b[0mindex_array\u001b[0m\u001b[0;34m]\u001b[0m \u001b[0;32mfor\u001b[0m \u001b[0mxx\u001b[0m \u001b[0;32min\u001b[0m \u001b[0mself\u001b[0m\u001b[0;34m.\u001b[0m\u001b[0mx_misc\u001b[0m\u001b[0;34m]\u001b[0m\u001b[0;34m\u001b[0m\u001b[0;34m\u001b[0m\u001b[0m\n\u001b[1;32m    167\u001b[0m         output = (batch_x if batch_x_miscs == []\n",
      "\u001b[0;32m~/anaconda3/envs/snowflakes/lib/python3.7/site-packages/PIL/Image.py\u001b[0m in \u001b[0;36msave\u001b[0;34m(self, fp, format, **params)\u001b[0m\n\u001b[1;32m   2002\u001b[0m                 \u001b[0;31m# Open also for reading (\"+\"), because TIFF save_all\u001b[0m\u001b[0;34m\u001b[0m\u001b[0;34m\u001b[0m\u001b[0;34m\u001b[0m\u001b[0m\n\u001b[1;32m   2003\u001b[0m                 \u001b[0;31m# writer needs to go back and edit the written data.\u001b[0m\u001b[0;34m\u001b[0m\u001b[0;34m\u001b[0m\u001b[0;34m\u001b[0m\u001b[0m\n\u001b[0;32m-> 2004\u001b[0;31m                 \u001b[0mfp\u001b[0m \u001b[0;34m=\u001b[0m \u001b[0mbuiltins\u001b[0m\u001b[0;34m.\u001b[0m\u001b[0mopen\u001b[0m\u001b[0;34m(\u001b[0m\u001b[0mfilename\u001b[0m\u001b[0;34m,\u001b[0m \u001b[0;34m\"w+b\"\u001b[0m\u001b[0;34m)\u001b[0m\u001b[0;34m\u001b[0m\u001b[0;34m\u001b[0m\u001b[0m\n\u001b[0m\u001b[1;32m   2005\u001b[0m \u001b[0;34m\u001b[0m\u001b[0m\n\u001b[1;32m   2006\u001b[0m         \u001b[0;32mtry\u001b[0m\u001b[0;34m:\u001b[0m\u001b[0;34m\u001b[0m\u001b[0;34m\u001b[0m\u001b[0m\n",
      "\u001b[0;31mFileNotFoundError\u001b[0m: [Errno 2] No such file or directory: 'preview/aug_0_2681.jpeg'"
     ]
    }
   ],
   "source": [
    "from keras.preprocessing.image import ImageDataGenerator, array_to_img, img_to_array, load_img\n",
    "from PIL import Image\n",
    "\n",
    "datagen = ImageDataGenerator(\n",
    "        rotation_range=40,\n",
    "        width_shift_range=0.2,\n",
    "        height_shift_range=0.2,\n",
    "        shear_range=0.2,\n",
    "        zoom_range=0.2,\n",
    "        horizontal_flip=True,\n",
    "        fill_mode='nearest')\n",
    "\n",
    "img = load_img('data/train_png/1.png')  # this is a PIL image\n",
    "x = img_to_array(img)  # this is a Numpy array with shape (3, 150, 150)\n",
    "x = x.reshape((1,) + x.shape)  # this is a Numpy array with shape (1, 3, 150, 150)\n",
    "\n",
    "# the .flow() command below generates batches of randomly transformed images\n",
    "# and saves the results to the `preview/` directory\n",
    "i = 0\n",
    "for batch in datagen.flow(x, batch_size=1,\n",
    "                          save_to_dir='./preview', save_prefix='aug', save_format='png'):\n",
    "    i += 1\n",
    "    if i > 20:\n",
    "        break  # otherwise the generator would loop indefinitely"
   ]
  },
  {
   "cell_type": "code",
   "execution_count": null,
   "metadata": {},
   "outputs": [],
   "source": []
  }
 ],
 "metadata": {
  "kernelspec": {
   "display_name": "Python 3",
   "language": "python",
   "name": "python3"
  },
  "language_info": {
   "codemirror_mode": {
    "name": "ipython",
    "version": 3
   },
   "file_extension": ".py",
   "mimetype": "text/x-python",
   "name": "python",
   "nbconvert_exporter": "python",
   "pygments_lexer": "ipython3",
   "version": "3.7.3"
  }
 },
 "nbformat": 4,
 "nbformat_minor": 2
}
